{
  "nbformat": 4,
  "nbformat_minor": 0,
  "metadata": {
    "colab": {
      "provenance": [],
      "authorship_tag": "ABX9TyPpGL2GCUHORG+JZUJ1tPH9",
      "include_colab_link": true
    },
    "kernelspec": {
      "name": "python3",
      "display_name": "Python 3"
    },
    "language_info": {
      "name": "python"
    }
  },
  "cells": [
    {
      "cell_type": "markdown",
      "metadata": {
        "id": "view-in-github",
        "colab_type": "text"
      },
      "source": [
        "<a href=\"https://colab.research.google.com/github/iqbalafreen/iqbal/blob/main/iqbal_day1%2Cipynb.ipynb\" target=\"_parent\"><img src=\"https://colab.research.google.com/assets/colab-badge.svg\" alt=\"Open In Colab\"/></a>"
      ]
    },
    {
      "cell_type": "code",
      "source": [
        "print(\"hello,world!\")\n",
        "if 5 > 2:\n",
        "  print(\"five is greater than two!\")\n",
        "  a=5\n",
        "  b=(\"hello,world\")\n",
        "  a=5\n",
        "  z=\"john\"\n",
        "  print(a)\n",
        "  print(z)\n",
        "  x=3\n",
        "  print(type(x))\n",
        "  y='4'\n",
        "  print(type(y))\n",
        "  z=8.0\n",
        "  print(type(z))\n"
      ],
      "metadata": {
        "id": "HIXea5loJf6f"
      },
      "execution_count": null,
      "outputs": []
    },
    {
      "cell_type": "markdown",
      "source": [
        "**SETS**"
      ],
      "metadata": {
        "id": "at5rH7-PV2ry"
      }
    },
    {
      "cell_type": "code",
      "source": [
        "my_set={\"cherry\",\"mango\",\"banana\"}\n",
        "print(my_set)"
      ],
      "metadata": {
        "colab": {
          "base_uri": "https://localhost:8080/"
        },
        "id": "H3WYiZK_V_ob",
        "outputId": "73d73e3c-ccf2-462c-acd4-e14744d2b744"
      },
      "execution_count": null,
      "outputs": [
        {
          "output_type": "stream",
          "name": "stdout",
          "text": [
            "{'banana', 'mango', 'cherry'}\n"
          ]
        }
      ]
    },
    {
      "cell_type": "markdown",
      "source": [
        "**dict**"
      ],
      "metadata": {
        "id": "rriRTAjFW_3P"
      }
    },
    {
      "cell_type": "code",
      "source": [
        "a_dict={\"math\":60,\n",
        "        \"science\":70,\n",
        "        \"electronics\":45,\n",
        "}\n",
        "print(a_dict)\n",
        "a_dict[\"electronics\"]=75"
      ],
      "metadata": {
        "colab": {
          "base_uri": "https://localhost:8080/"
        },
        "id": "zV4kgvhmXCUm",
        "outputId": "a6e49877-a869-4247-9283-8b253a423174"
      },
      "execution_count": null,
      "outputs": [
        {
          "output_type": "stream",
          "name": "stdout",
          "text": [
            "{'math': 60, 'science': 70, 'electronics': 45}\n"
          ]
        }
      ]
    },
    {
      "cell_type": "markdown",
      "source": [
        "**else if**"
      ],
      "metadata": {
        "id": "5jgwZRXMemBL"
      }
    },
    {
      "cell_type": "code",
      "source": [
        "# a=22\n",
        "# b=22\n",
        "# if b > a:\n",
        "#    print(\"b is greater than a\")\n",
        "# elif a==b:\n",
        "#     print(\"a is greater than b\")\n",
        "a=int(input(\"enter the value of a:\"))\n",
        "b=int(input(\"enter the vale of b:\"))\n",
        "if b>a:\n",
        "  print(\"b is greater than a\")\n",
        "elif a==b:\n",
        "  print(\"a is greater than b\")"
      ],
      "metadata": {
        "colab": {
          "base_uri": "https://localhost:8080/"
        },
        "id": "Z5MmY9zNevpy",
        "outputId": "0f8148d8-a538-4702-ae25-33b6c77025df"
      },
      "execution_count": null,
      "outputs": [
        {
          "output_type": "stream",
          "name": "stdout",
          "text": [
            "enter the value of a:22\n",
            "enter the vale of b:23\n",
            "b is greater than a\n"
          ]
        }
      ]
    },
    {
      "cell_type": "markdown",
      "source": [
        "**if**"
      ],
      "metadata": {
        "id": "PE-h0xCIjt6o"
      }
    },
    {
      "cell_type": "code",
      "source": [
        "a=100\n",
        "b=60\n",
        "if a > b or b == a:\n",
        "  print(\"both the condition are true\")"
      ],
      "metadata": {
        "colab": {
          "base_uri": "https://localhost:8080/"
        },
        "id": "L5ob-1IVjwy1",
        "outputId": "4d13fa28-8013-4fdf-b648-3673c88a4eb2"
      },
      "execution_count": null,
      "outputs": [
        {
          "output_type": "stream",
          "name": "stdout",
          "text": [
            "both the condition are true\n"
          ]
        }
      ]
    },
    {
      "cell_type": "code",
      "source": [
        "u=100\n",
        "t=300\n",
        "e=500\n",
        "if u > t and e > t:\n",
        "  print(\"both conditions are true\")"
      ],
      "metadata": {
        "id": "O8KGUbyLmyCR"
      },
      "execution_count": null,
      "outputs": []
    },
    {
      "cell_type": "markdown",
      "source": [
        "**while**"
      ],
      "metadata": {
        "id": "IVuoUxctpl55"
      }
    },
    {
      "cell_type": "code",
      "source": [
        "i=1\n",
        "while i < 10:\n",
        "  print(i)\n",
        "  i +=1\n",
        "\n",
        "\n",
        "  if i == 5:\n",
        "    break\n",
        "\n"
      ],
      "metadata": {
        "colab": {
          "base_uri": "https://localhost:8080/"
        },
        "id": "8bT8WySKprBg",
        "outputId": "afd5788a-9cbb-45b3-8d13-99b32869ded3"
      },
      "execution_count": null,
      "outputs": [
        {
          "output_type": "stream",
          "name": "stdout",
          "text": [
            "1\n",
            "2\n",
            "3\n",
            "4\n"
          ]
        }
      ]
    },
    {
      "cell_type": "markdown",
      "source": [
        "**while continue**"
      ],
      "metadata": {
        "id": "IBxAULZFtqiU"
      }
    },
    {
      "cell_type": "code",
      "source": [
        "i = 0\n",
        "while i < 6:\n",
        "  i += 1\n",
        "  if i == 3:\n",
        "    continue\n",
        "  print(i)"
      ],
      "metadata": {
        "colab": {
          "base_uri": "https://localhost:8080/"
        },
        "id": "_ybfw07xtzWW",
        "outputId": "d18be7a5-d77e-45b7-aed2-725f659c2f32"
      },
      "execution_count": null,
      "outputs": [
        {
          "output_type": "stream",
          "name": "stdout",
          "text": [
            "1\n",
            "2\n",
            "4\n",
            "5\n",
            "6\n"
          ]
        }
      ]
    },
    {
      "cell_type": "code",
      "source": [
        "i = 1\n",
        "while i < 6:\n",
        "  print(i)\n",
        "  i +=1\n",
        "else:\n",
        "    print(\"1 is no longer than 6\")"
      ],
      "metadata": {
        "colab": {
          "base_uri": "https://localhost:8080/"
        },
        "id": "l5kBnTGovD1_",
        "outputId": "034f81f6-ea6c-4fdc-8b27-81630349e179"
      },
      "execution_count": null,
      "outputs": [
        {
          "output_type": "stream",
          "name": "stdout",
          "text": [
            "1\n",
            "2\n",
            "3\n",
            "4\n",
            "5\n",
            "1 is no longer than 6\n"
          ]
        }
      ]
    },
    {
      "cell_type": "markdown",
      "source": [
        "**for**"
      ],
      "metadata": {
        "id": "9xhkI1a7w3NQ"
      }
    },
    {
      "cell_type": "code",
      "source": [
        "my_list=[\"abc\",\"def\",\"ghi\",True,9.7,'c',123]\n",
        "for x in my_list:\n",
        " print(x)\n",
        " if x==\"ghi\":\n",
        "  break"
      ],
      "metadata": {
        "colab": {
          "base_uri": "https://localhost:8080/"
        },
        "id": "EWqbpNNaw6I1",
        "outputId": "18b6f81c-7c38-4439-a64e-dc430d928466"
      },
      "execution_count": null,
      "outputs": [
        {
          "output_type": "stream",
          "name": "stdout",
          "text": [
            "abc\n",
            "def\n",
            "ghi\n"
          ]
        }
      ]
    },
    {
      "cell_type": "markdown",
      "source": [
        "**function**"
      ],
      "metadata": {
        "id": "L3fdJm1DkIJN"
      }
    },
    {
      "cell_type": "code",
      "source": [
        "def my_function(*heights):\n",
        "  print(\"the last height entered is\" + str(heights[2]))\n",
        "\n",
        "my_function(8,6,90,50)"
      ],
      "metadata": {
        "colab": {
          "base_uri": "https://localhost:8080/"
        },
        "id": "P12X2VffkKtk",
        "outputId": "6b315b50-55fa-4074-c586-ae20d64686ae"
      },
      "execution_count": null,
      "outputs": [
        {
          "output_type": "stream",
          "name": "stdout",
          "text": [
            "the last height entered is90\n"
          ]
        }
      ]
    },
    {
      "cell_type": "code",
      "source": [
        "def my_function():\n",
        "  print(\"bye\")\n",
        "\n",
        "my_function()"
      ],
      "metadata": {
        "colab": {
          "base_uri": "https://localhost:8080/"
        },
        "id": "vEbSMFtVoZlk",
        "outputId": "e1af53a2-a426-423d-f19e-d4bbbaecc2a4"
      },
      "execution_count": null,
      "outputs": [
        {
          "output_type": "stream",
          "name": "stdout",
          "text": [
            "bye\n"
          ]
        }
      ]
    },
    {
      "cell_type": "code",
      "source": [
        "def my_funct(fname, lname, email):\n",
        "  print(fname+ \" \" +lname+ \" \"+email)\n",
        "\n",
        "my_funct(\"ifra\",\"iqbal\",\"nabiha\")\n",
        "my_funct(fname=\"iqbal\",lname=\"ifra\",email=\"nabiha\")"
      ],
      "metadata": {
        "colab": {
          "base_uri": "https://localhost:8080/"
        },
        "id": "9wvFWouepiZR",
        "outputId": "c608910f-2e2f-482d-f0b2-93c890a42df4"
      },
      "execution_count": null,
      "outputs": [
        {
          "output_type": "stream",
          "name": "stdout",
          "text": [
            "ifra iqbal nabiha\n",
            "iqbal ifra nabiha\n"
          ]
        }
      ]
    },
    {
      "cell_type": "code",
      "source": [
        "def my_function(square):\n",
        "  print(square * square)\n",
        "my_function(2)\n",
        "my_function(4)\n",
        "my_function(6)"
      ],
      "metadata": {
        "colab": {
          "base_uri": "https://localhost:8080/"
        },
        "id": "w7MtvCb1vhv7",
        "outputId": "eba04a09-05e4-4773-a53c-05a442f953ec"
      },
      "execution_count": null,
      "outputs": [
        {
          "output_type": "stream",
          "name": "stdout",
          "text": [
            "4\n",
            "16\n",
            "36\n"
          ]
        }
      ]
    },
    {
      "cell_type": "code",
      "source": [
        "def sq_function(z):\n",
        "  return z**2\n",
        "\n",
        "print(sq_function(2))\n",
        "print(sq_function(6))"
      ],
      "metadata": {
        "colab": {
          "base_uri": "https://localhost:8080/"
        },
        "id": "cfOZKU34yHKh",
        "outputId": "bca04399-9f03-4c44-c48d-129d702ed1e7"
      },
      "execution_count": null,
      "outputs": [
        {
          "output_type": "stream",
          "name": "stdout",
          "text": [
            "4\n",
            "36\n"
          ]
        }
      ]
    },
    {
      "cell_type": "code",
      "source": [
        "def mult(n):\n",
        "  for i in range(1,11):\n",
        "    print(n ,\"x\",i,\"=\",n*i)\n",
        "\n",
        "\n",
        "mult(9)"
      ],
      "metadata": {
        "colab": {
          "base_uri": "https://localhost:8080/"
        },
        "id": "oBGDhGn_zMfS",
        "outputId": "01734158-dff5-4ef6-858a-1b2c5fc9cb6c"
      },
      "execution_count": null,
      "outputs": [
        {
          "output_type": "stream",
          "name": "stdout",
          "text": [
            "9 x 1 = 9\n",
            "9 x 2 = 18\n",
            "9 x 3 = 27\n",
            "9 x 4 = 36\n",
            "9 x 5 = 45\n",
            "9 x 6 = 54\n",
            "9 x 7 = 63\n",
            "9 x 8 = 72\n",
            "9 x 9 = 81\n",
            "9 x 10 = 90\n"
          ]
        }
      ]
    },
    {
      "cell_type": "code",
      "source": [
        "x = lambda a, b : a * b\n",
        "print(x(2,4))"
      ],
      "metadata": {
        "colab": {
          "base_uri": "https://localhost:8080/"
        },
        "id": "6lOVOMZL1-EI",
        "outputId": "9201c76f-81da-493b-ff53-946e2dd30418"
      },
      "execution_count": null,
      "outputs": [
        {
          "output_type": "stream",
          "name": "stdout",
          "text": [
            "8\n"
          ]
        }
      ]
    },
    {
      "cell_type": "code",
      "source": [
        "def my_function(n):\n",
        "  return lambda a : a*n\n",
        "\n",
        "mult=my_function(3)\n",
        "\n",
        "print(mult(100))"
      ],
      "metadata": {
        "colab": {
          "base_uri": "https://localhost:8080/"
        },
        "id": "aYCPpm7t3Rq_",
        "outputId": "b35ec66b-36a1-4180-dd4b-316f6182d90d"
      },
      "execution_count": null,
      "outputs": [
        {
          "output_type": "stream",
          "name": "stdout",
          "text": [
            "300\n"
          ]
        }
      ]
    },
    {
      "cell_type": "markdown",
      "source": [
        "password strength"
      ],
      "metadata": {
        "id": "O96-l2b1uLhQ"
      }
    },
    {
      "cell_type": "code",
      "source": [
        "def printstrongness (input_string):\n",
        "\n",
        "  n= len (input_string)\n",
        "\n",
        "  haslower = False\n",
        "  hasupper = False\n",
        "  hasdigit = False\n",
        "  specialchar = False\n",
        "  normalchar = [\"a-z A-Z\"]\n",
        "  for i in range(n):\n",
        "    if input_string[i] . islower():\n",
        "      haslower = True\n",
        "    if input_string[i] . isupper():\n",
        "      hasupper = True\n",
        "    if input_string[i] . isdigit():\n",
        "      hasdigit =  True\n",
        "    if input_string[i] not in normalchars:\n",
        "      specialchar = True\n",
        "      print(\"strength of password:-\", end =\" \")\n",
        "    if(haslower and hasupper and specialchar and n>8):\n",
        "        print(\"strong\")\n",
        "    elif ((haslower and hasupper) and specialchar and n>=6):\n",
        "      print(\"moderate\")\n",
        "    elif:\n",
        "      print(\"weak\"):\n",
        "if__name__==\"__main__\":\n",
        "  input_string = \"greeksforgreeks!@12\"\n",
        "printStrongness(input_string)"
      ],
      "metadata": {
        "colab": {
          "base_uri": "https://localhost:8080/",
          "height": 130
        },
        "id": "TzVk4sF6uQxH",
        "outputId": "e8d67474-12c9-47f3-ba16-ab8458a313dd"
      },
      "execution_count": null,
      "outputs": [
        {
          "output_type": "error",
          "ename": "SyntaxError",
          "evalue": "ignored",
          "traceback": [
            "\u001b[0;36m  File \u001b[0;32m\"<ipython-input-56-e7315c9a77e1>\"\u001b[0;36m, line \u001b[0;32m24\u001b[0m\n\u001b[0;31m    elif:\u001b[0m\n\u001b[0m        ^\u001b[0m\n\u001b[0;31mSyntaxError\u001b[0m\u001b[0;31m:\u001b[0m invalid syntax\n"
          ]
        }
      ]
    },
    {
      "cell_type": "code",
      "source": [
        "my_list = [1,2,3,4]\n",
        "new_list = [x for x in my_list if x % 2==0]\n",
        "print(new_list)"
      ],
      "metadata": {
        "colab": {
          "base_uri": "https://localhost:8080/"
        },
        "id": "1poErjO95S4i",
        "outputId": "3c894a31-c20b-4af7-98a4-4e1cca3e2c1c"
      },
      "execution_count": null,
      "outputs": [
        {
          "output_type": "stream",
          "name": "stdout",
          "text": [
            "[2, 4]\n"
          ]
        }
      ]
    },
    {
      "cell_type": "code",
      "source": [
        "new_list = [x for x in my_list if x !=3]\n",
        "print(new_list)"
      ],
      "metadata": {
        "colab": {
          "base_uri": "https://localhost:8080/"
        },
        "id": "3j0gZhBG6k-I",
        "outputId": "4d47ca71-d762-447e-d8ed-cb059ccabe6b"
      },
      "execution_count": null,
      "outputs": [
        {
          "output_type": "stream",
          "name": "stdout",
          "text": [
            "[1, 2, 4]\n"
          ]
        }
      ]
    },
    {
      "cell_type": "code",
      "source": [
        "my_list=[x for x in range(1,11)]\n",
        "print(my_list)"
      ],
      "metadata": {
        "colab": {
          "base_uri": "https://localhost:8080/"
        },
        "id": "WqkqPGob7PvH",
        "outputId": "7070bcf6-5f40-451e-9c9e-05b8a7d14ef4"
      },
      "execution_count": null,
      "outputs": [
        {
          "output_type": "stream",
          "name": "stdout",
          "text": [
            "[1, 2, 3, 4, 5, 6, 7, 8, 9, 10]\n"
          ]
        }
      ]
    },
    {
      "cell_type": "code",
      "source": [
        "my_list=[x for x in range(21) if x>10]\n",
        "print(my_list)"
      ],
      "metadata": {
        "colab": {
          "base_uri": "https://localhost:8080/"
        },
        "id": "nD0zt_jG8hAY",
        "outputId": "5512052f-c82a-404e-f7ff-a04f1aa331f1"
      },
      "execution_count": null,
      "outputs": [
        {
          "output_type": "stream",
          "name": "stdout",
          "text": [
            "[11, 12, 13, 14, 15, 16, 17, 18, 19, 20]\n"
          ]
        }
      ]
    },
    {
      "cell_type": "code",
      "source": [
        "def pypart(n):\n",
        "  for i in range(0,n):\n",
        "    for j in range(0,i+1):\n",
        "      print(\" * \",end=\"\")\n",
        "    print(\"\\r\")\n",
        "n=5\n",
        "pypart(n)"
      ],
      "metadata": {
        "colab": {
          "base_uri": "https://localhost:8080/"
        },
        "id": "xcUp0Lub_bVK",
        "outputId": "7b4c4056-6836-4ed7-8276-6e0a6c2943ec"
      },
      "execution_count": null,
      "outputs": [
        {
          "output_type": "stream",
          "name": "stdout",
          "text": [
            " * \r\n",
            " *  * \r\n",
            " *  *  * \r\n",
            " *  *  *  * \r\n",
            " *  *  *  *  * \r\n"
          ]
        }
      ]
    },
    {
      "cell_type": "markdown",
      "source": [
        "**numpy**"
      ],
      "metadata": {
        "id": "rj6o9i2cLp1g"
      }
    },
    {
      "cell_type": "code",
      "source": [
        "import numpy as np\n",
        "\n",
        "arr=np.array((1,2,3,4,5))\n",
        "\n",
        "print(arr)"
      ],
      "metadata": {
        "colab": {
          "base_uri": "https://localhost:8080/"
        },
        "id": "mQ8fD-DWLtlD",
        "outputId": "a20f800d-7b52-414a-f462-23fb6b346f28"
      },
      "execution_count": null,
      "outputs": [
        {
          "output_type": "stream",
          "name": "stdout",
          "text": [
            "[1 2 3 4 5]\n"
          ]
        }
      ]
    },
    {
      "cell_type": "code",
      "source": [
        "import numpy as np\n",
        "my_array=np.array([1,2,3,4,5,6,7,8,9,10,11,12])\n",
        "new_arr=my_array.reshape(3,2,2)\n",
        "print(new_arr)"
      ],
      "metadata": {
        "colab": {
          "base_uri": "https://localhost:8080/"
        },
        "id": "LOVmXC8lOgrC",
        "outputId": "c5f2a42e-3647-462a-c772-86a29fa3327a"
      },
      "execution_count": null,
      "outputs": [
        {
          "output_type": "stream",
          "name": "stdout",
          "text": [
            "[[[ 1  2]\n",
            "  [ 3  4]]\n",
            "\n",
            " [[ 5  6]\n",
            "  [ 7  8]]\n",
            "\n",
            " [[ 9 10]\n",
            "  [11 12]]]\n"
          ]
        }
      ]
    },
    {
      "cell_type": "markdown",
      "source": [
        "**pandas**"
      ],
      "metadata": {
        "id": "iaZhQV3_VHXu"
      }
    },
    {
      "cell_type": "code",
      "source": [
        "import pandas as pd\n",
        "a=[2,4,3,5,6]\n",
        "myvar=pd.Series(a)\n",
        "print(myvar)"
      ],
      "metadata": {
        "colab": {
          "base_uri": "https://localhost:8080/"
        },
        "id": "GmWBTlVRX1p7",
        "outputId": "a81ccaa2-5083-495d-e829-5416be559c34"
      },
      "execution_count": null,
      "outputs": [
        {
          "output_type": "stream",
          "name": "stdout",
          "text": [
            "0    2\n",
            "1    4\n",
            "2    3\n",
            "3    5\n",
            "4    6\n",
            "dtype: int64\n"
          ]
        }
      ]
    },
    {
      "cell_type": "code",
      "source": [
        "import pandas as pd\n",
        "a=[1,3,5,7]\n",
        "myvar=pd.Series(a)\n",
        "index=[\"x\",\"y\",\"z\"]\n",
        "print(myvar)"
      ],
      "metadata": {
        "colab": {
          "base_uri": "https://localhost:8080/"
        },
        "id": "skzQqsqiZxyW",
        "outputId": "01d34e13-5ebf-4f48-a258-9edf084ed8eb"
      },
      "execution_count": null,
      "outputs": [
        {
          "output_type": "stream",
          "name": "stdout",
          "text": [
            "0    1\n",
            "1    3\n",
            "2    5\n",
            "3    7\n",
            "dtype: int64\n"
          ]
        }
      ]
    },
    {
      "cell_type": "code",
      "source": [
        "import pandas as pd\n",
        "calories = {\"day1\": 420,\"day2\": 380,\"days3\": 390}\n",
        "myvar = pd.Series(calories)\n",
        "print(myvar)\n"
      ],
      "metadata": {
        "colab": {
          "base_uri": "https://localhost:8080/"
        },
        "id": "XOZyKO7-cTA3",
        "outputId": "ad3a4763-6fa3-4353-f5b9-9215efb60010"
      },
      "execution_count": null,
      "outputs": [
        {
          "output_type": "stream",
          "name": "stdout",
          "text": [
            "day1     420\n",
            "day2     380\n",
            "days3    390\n",
            "dtype: int64\n"
          ]
        }
      ]
    },
    {
      "cell_type": "code",
      "source": [
        "import pandas as pd\n",
        "memories = {\"day1\": 480, \"day2\": 680, \"day3\": 360}\n",
        "myvar = pd.Series(memories,\n",
        "index=[\"day1\",\"day2\"])\n",
        "print(myvar)"
      ],
      "metadata": {
        "colab": {
          "base_uri": "https://localhost:8080/"
        },
        "id": "kjFMDutLiPwU",
        "outputId": "b3cf3a57-3855-4237-b5fe-b95efac68d23"
      },
      "execution_count": null,
      "outputs": [
        {
          "output_type": "stream",
          "name": "stdout",
          "text": [
            "day1    480\n",
            "day2    680\n",
            "dtype: int64\n"
          ]
        }
      ]
    },
    {
      "cell_type": "markdown",
      "source": [
        "**dataframes**"
      ],
      "metadata": {
        "id": "32ItEBzjjszu"
      }
    },
    {
      "cell_type": "code",
      "source": [
        "import pandas as pd\n",
        "data = {\n",
        "    \"calories\":[420,360,450],\n",
        "    \"period\": [50,60,80]\n",
        "}\n",
        "myvar = pd.DataFrame(data)\n",
        "print(myvar)"
      ],
      "metadata": {
        "colab": {
          "base_uri": "https://localhost:8080/"
        },
        "id": "xa-oqs1Xjv7R",
        "outputId": "f738ee35-0a9c-401d-8fea-1937b8fe3475"
      },
      "execution_count": null,
      "outputs": [
        {
          "output_type": "stream",
          "name": "stdout",
          "text": [
            "   calories  period\n",
            "0       420      50\n",
            "1       360      60\n",
            "2       450      80\n"
          ]
        }
      ]
    },
    {
      "cell_type": "code",
      "source": [
        "sharktank = pd.read_csv(\"/content/ShartankIndiaAllPitches.csv\")"
      ],
      "metadata": {
        "id": "Yds7c3xrsyDr"
      },
      "execution_count": null,
      "outputs": []
    },
    {
      "cell_type": "code",
      "source": [
        "sharktank.shape"
      ],
      "metadata": {
        "colab": {
          "base_uri": "https://localhost:8080/"
        },
        "id": "Ls1uz6LbtMhA",
        "outputId": "f067735b-11c6-4af0-ecc5-768f0df2dcaa"
      },
      "execution_count": null,
      "outputs": [
        {
          "output_type": "execute_result",
          "data": {
            "text/plain": [
              "(117, 13)"
            ]
          },
          "metadata": {},
          "execution_count": 35
        }
      ]
    },
    {
      "cell_type": "code",
      "source": [],
      "metadata": {
        "id": "S3qBpzhiI0UC"
      },
      "execution_count": null,
      "outputs": []
    }
  ]
}